{
 "cells": [
  {
   "cell_type": "markdown",
   "id": "e7e6c30f",
   "metadata": {},
   "source": [
    "# Getting Started Notebook\n",
    "This notebook runs inside the ComfyUI + Jupyter container.\n",
    "\n",
    "Use it to prototype scripts, interact with ComfyUI directories, or build workflows."
   ]
  },
  {
   "cell_type": "code",
   "execution_count": null,
   "id": "68204af5",
   "metadata": {},
   "outputs": [],
   "source": [
    "import sys, os, platform\n",
    "print('Python:', sys.version)\n",
    "print('Platform:', platform.platform())\n",
    "print('Working dir:', os.getcwd())\n",
    "print('ComfyUI exists:', os.path.isdir('/root/comfy/ComfyUI'))"
   ]
  },
  {
   "cell_type": "code",
   "execution_count": null,
   "id": "6be91433",
   "metadata": {},
   "outputs": [],
   "source": [
    "# List a few top-level ComfyUI files (if available)\n",
    "import itertools, pathlib\n",
    "base = pathlib.Path('/root/comfy/ComfyUI')\n",
    "print('Top entries:')\n",
    "for p in itertools.islice(base.iterdir(), 10):\n",
    "    print('-', p)"
   ]
  }
 ],
 "metadata": {
  "language_info": {
   "name": "python"
  }
 },
 "nbformat": 4,
 "nbformat_minor": 5
}
